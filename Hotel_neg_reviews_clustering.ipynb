{
  "cells": [
    {
      "cell_type": "code",
      "execution_count": null,
      "metadata": {
        "id": "IRJ9jFR-E-NB"
      },
      "outputs": [],
      "source": [
        "!mkdir -p ~/.kaggle\n",
        "!cp kaggle.json ~/.kaggle/\n",
        "!chmod 600 ~/.kaggle/kaggle.json"
      ]
    },
    {
      "cell_type": "code",
      "execution_count": null,
      "metadata": {
        "id": "2LwBohNMFFST"
      },
      "outputs": [],
      "source": [
        "!kaggle datasets download andrewmvd/trip-advisor-hotel-reviews"
      ]
    },
    {
      "cell_type": "code",
      "execution_count": null,
      "metadata": {
        "id": "GamnIHm0GrZC"
      },
      "outputs": [],
      "source": [
        "import zipfile\n",
        "zip_ref =  zipfile.ZipFile(r'/content/trip-advisor-hotel-reviews.zip', 'r')\n",
        "zip_ref.extractall('/content')\n",
        "zip_ref.close()"
      ]
    },
    {
      "cell_type": "code",
      "execution_count": null,
      "metadata": {
        "colab": {
          "base_uri": "https://localhost:8080/"
        },
        "id": "PLaVcpEDb4k8",
        "outputId": "c7660381-4829-4d20-e3a9-3544ec347851"
      },
      "outputs": [
        {
          "output_type": "stream",
          "name": "stdout",
          "text": [
            "\u001b[33mWARNING: Skipping scikit-learn as it is not installed.\u001b[0m\u001b[33m\n",
            "\u001b[0mCollecting scikit-learn==1.5.2\n",
            "  Downloading scikit_learn-1.5.2-cp310-cp310-manylinux_2_17_x86_64.manylinux2014_x86_64.whl.metadata (13 kB)\n",
            "Requirement already satisfied: numpy>=1.19.5 in /usr/local/lib/python3.10/dist-packages (from scikit-learn==1.5.2) (1.26.4)\n",
            "Requirement already satisfied: scipy>=1.6.0 in /usr/local/lib/python3.10/dist-packages (from scikit-learn==1.5.2) (1.13.1)\n",
            "Requirement already satisfied: joblib>=1.2.0 in /usr/local/lib/python3.10/dist-packages (from scikit-learn==1.5.2) (1.4.2)\n",
            "Requirement already satisfied: threadpoolctl>=3.1.0 in /usr/local/lib/python3.10/dist-packages (from scikit-learn==1.5.2) (3.5.0)\n",
            "Downloading scikit_learn-1.5.2-cp310-cp310-manylinux_2_17_x86_64.manylinux2014_x86_64.whl (13.3 MB)\n",
            "\u001b[2K   \u001b[90m━━━━━━━━━━━━━━━━━━━━━━━━━━━━━━━━━━━━━━━━\u001b[0m \u001b[32m13.3/13.3 MB\u001b[0m \u001b[31m106.2 MB/s\u001b[0m eta \u001b[36m0:00:00\u001b[0m\n",
            "\u001b[?25hInstalling collected packages: scikit-learn\n",
            "Successfully installed scikit-learn-1.5.2\n"
          ]
        }
      ],
      "source": [
        "!pip uninstall -y scikit-learn\n",
        "!pip install scikit-learn==1.5.2"
      ]
    },
    {
      "cell_type": "markdown",
      "source": [
        "### Introduction\n",
        "Customer reviews are a rich source of insights for understanding customer sentiments and improving services in the hospitality industry. In this project, we analyzed hotel reviews from the [TripAdvisor Hotel Reviews dataset](https://www.kaggle.com/datasets/andrewmvd/trip-advisor-hotel-reviews). The primary objective was to uncover patterns and themes within **negative reviews** using Natural Language Processing (NLP) techniques and clustering methods.\n",
        "\n",
        "The workflow involved:\n",
        "1. **Preprocessing the data** using `spaCy` for cleaning and lemmatization.\n",
        "2. **Sentiment analysis** using `SentimentIntensityAnalyzer` to categorize reviews into positive, neutral, and negative sentiments.\n",
        "3. **Vectorization** of the negative reviews using `TfidfVectorizer` to transform text into numerical data suitable for clustering.\n",
        "4. **Optimal cluster selection** using `Stellhouse_score` to determine the ideal number of clusters.\n",
        "5. **K-means clustering** to identify common themes in the negative reviews, resulting in three distinct clusters representing recurring issues experienced by customers.\n",
        "\n",
        "This analysis helps highlight the key areas of dissatisfaction among hotel guests, providing actionable insights for hotel management to improve customer satisfaction.\n"
      ],
      "metadata": {
        "id": "CTNP_ZTvVjZE"
      }
    },
    {
      "cell_type": "markdown",
      "source": [
        "### Import Libraries:"
      ],
      "metadata": {
        "id": "e-vmBeKeSCjp"
      }
    },
    {
      "cell_type": "code",
      "source": [
        "import numpy as np\n",
        "import pandas as pd\n",
        "\n",
        "import seaborn as sns\n",
        "import matplotlib.pyplot as plt\n",
        "\n",
        "import spacy\n",
        "import nltk\n",
        "\n",
        "from sklearn.feature_extraction.text import TfidfVectorizer\n",
        "from sklearn.cluster import KMeans\n",
        "from sklearn.metrics import silhouette_score\n",
        "\n",
        "import warnings\n",
        "warnings.filterwarnings('ignore')"
      ],
      "metadata": {
        "id": "XQmvL6f7R7pn"
      },
      "execution_count": null,
      "outputs": []
    },
    {
      "cell_type": "markdown",
      "source": [
        "### Exploratory Data Analysis:"
      ],
      "metadata": {
        "id": "D7wbp-QppEL0"
      }
    },
    {
      "cell_type": "code",
      "source": [
        "df = pd.read_csv('/content/tripadvisor_hotel_reviews.csv')\n",
        "df.head()"
      ],
      "metadata": {
        "colab": {
          "base_uri": "https://localhost:8080/",
          "height": 206
        },
        "id": "AJSmOzXrSq68",
        "outputId": "94af7d71-3315-425b-e793-11b7a409fcfa"
      },
      "execution_count": null,
      "outputs": [
        {
          "output_type": "execute_result",
          "data": {
            "text/plain": [
              "                                              Review  Rating\n",
              "0  nice hotel expensive parking got good deal sta...       4\n",
              "1  ok nothing special charge diamond member hilto...       2\n",
              "2  nice rooms not 4* experience hotel monaco seat...       3\n",
              "3  unique, great stay, wonderful time hotel monac...       5\n",
              "4  great stay great stay, went seahawk game aweso...       5"
            ],
            "text/html": [
              "\n",
              "  <div id=\"df-e944b0c0-c283-4107-9799-7119b3b03f12\" class=\"colab-df-container\">\n",
              "    <div>\n",
              "<style scoped>\n",
              "    .dataframe tbody tr th:only-of-type {\n",
              "        vertical-align: middle;\n",
              "    }\n",
              "\n",
              "    .dataframe tbody tr th {\n",
              "        vertical-align: top;\n",
              "    }\n",
              "\n",
              "    .dataframe thead th {\n",
              "        text-align: right;\n",
              "    }\n",
              "</style>\n",
              "<table border=\"1\" class=\"dataframe\">\n",
              "  <thead>\n",
              "    <tr style=\"text-align: right;\">\n",
              "      <th></th>\n",
              "      <th>Review</th>\n",
              "      <th>Rating</th>\n",
              "    </tr>\n",
              "  </thead>\n",
              "  <tbody>\n",
              "    <tr>\n",
              "      <th>0</th>\n",
              "      <td>nice hotel expensive parking got good deal sta...</td>\n",
              "      <td>4</td>\n",
              "    </tr>\n",
              "    <tr>\n",
              "      <th>1</th>\n",
              "      <td>ok nothing special charge diamond member hilto...</td>\n",
              "      <td>2</td>\n",
              "    </tr>\n",
              "    <tr>\n",
              "      <th>2</th>\n",
              "      <td>nice rooms not 4* experience hotel monaco seat...</td>\n",
              "      <td>3</td>\n",
              "    </tr>\n",
              "    <tr>\n",
              "      <th>3</th>\n",
              "      <td>unique, great stay, wonderful time hotel monac...</td>\n",
              "      <td>5</td>\n",
              "    </tr>\n",
              "    <tr>\n",
              "      <th>4</th>\n",
              "      <td>great stay great stay, went seahawk game aweso...</td>\n",
              "      <td>5</td>\n",
              "    </tr>\n",
              "  </tbody>\n",
              "</table>\n",
              "</div>\n",
              "    <div class=\"colab-df-buttons\">\n",
              "\n",
              "  <div class=\"colab-df-container\">\n",
              "    <button class=\"colab-df-convert\" onclick=\"convertToInteractive('df-e944b0c0-c283-4107-9799-7119b3b03f12')\"\n",
              "            title=\"Convert this dataframe to an interactive table.\"\n",
              "            style=\"display:none;\">\n",
              "\n",
              "  <svg xmlns=\"http://www.w3.org/2000/svg\" height=\"24px\" viewBox=\"0 -960 960 960\">\n",
              "    <path d=\"M120-120v-720h720v720H120Zm60-500h600v-160H180v160Zm220 220h160v-160H400v160Zm0 220h160v-160H400v160ZM180-400h160v-160H180v160Zm440 0h160v-160H620v160ZM180-180h160v-160H180v160Zm440 0h160v-160H620v160Z\"/>\n",
              "  </svg>\n",
              "    </button>\n",
              "\n",
              "  <style>\n",
              "    .colab-df-container {\n",
              "      display:flex;\n",
              "      gap: 12px;\n",
              "    }\n",
              "\n",
              "    .colab-df-convert {\n",
              "      background-color: #E8F0FE;\n",
              "      border: none;\n",
              "      border-radius: 50%;\n",
              "      cursor: pointer;\n",
              "      display: none;\n",
              "      fill: #1967D2;\n",
              "      height: 32px;\n",
              "      padding: 0 0 0 0;\n",
              "      width: 32px;\n",
              "    }\n",
              "\n",
              "    .colab-df-convert:hover {\n",
              "      background-color: #E2EBFA;\n",
              "      box-shadow: 0px 1px 2px rgba(60, 64, 67, 0.3), 0px 1px 3px 1px rgba(60, 64, 67, 0.15);\n",
              "      fill: #174EA6;\n",
              "    }\n",
              "\n",
              "    .colab-df-buttons div {\n",
              "      margin-bottom: 4px;\n",
              "    }\n",
              "\n",
              "    [theme=dark] .colab-df-convert {\n",
              "      background-color: #3B4455;\n",
              "      fill: #D2E3FC;\n",
              "    }\n",
              "\n",
              "    [theme=dark] .colab-df-convert:hover {\n",
              "      background-color: #434B5C;\n",
              "      box-shadow: 0px 1px 3px 1px rgba(0, 0, 0, 0.15);\n",
              "      filter: drop-shadow(0px 1px 2px rgba(0, 0, 0, 0.3));\n",
              "      fill: #FFFFFF;\n",
              "    }\n",
              "  </style>\n",
              "\n",
              "    <script>\n",
              "      const buttonEl =\n",
              "        document.querySelector('#df-e944b0c0-c283-4107-9799-7119b3b03f12 button.colab-df-convert');\n",
              "      buttonEl.style.display =\n",
              "        google.colab.kernel.accessAllowed ? 'block' : 'none';\n",
              "\n",
              "      async function convertToInteractive(key) {\n",
              "        const element = document.querySelector('#df-e944b0c0-c283-4107-9799-7119b3b03f12');\n",
              "        const dataTable =\n",
              "          await google.colab.kernel.invokeFunction('convertToInteractive',\n",
              "                                                    [key], {});\n",
              "        if (!dataTable) return;\n",
              "\n",
              "        const docLinkHtml = 'Like what you see? Visit the ' +\n",
              "          '<a target=\"_blank\" href=https://colab.research.google.com/notebooks/data_table.ipynb>data table notebook</a>'\n",
              "          + ' to learn more about interactive tables.';\n",
              "        element.innerHTML = '';\n",
              "        dataTable['output_type'] = 'display_data';\n",
              "        await google.colab.output.renderOutput(dataTable, element);\n",
              "        const docLink = document.createElement('div');\n",
              "        docLink.innerHTML = docLinkHtml;\n",
              "        element.appendChild(docLink);\n",
              "      }\n",
              "    </script>\n",
              "  </div>\n",
              "\n",
              "\n",
              "<div id=\"df-6337c293-1456-41c9-969e-cb8e1fa53f0c\">\n",
              "  <button class=\"colab-df-quickchart\" onclick=\"quickchart('df-6337c293-1456-41c9-969e-cb8e1fa53f0c')\"\n",
              "            title=\"Suggest charts\"\n",
              "            style=\"display:none;\">\n",
              "\n",
              "<svg xmlns=\"http://www.w3.org/2000/svg\" height=\"24px\"viewBox=\"0 0 24 24\"\n",
              "     width=\"24px\">\n",
              "    <g>\n",
              "        <path d=\"M19 3H5c-1.1 0-2 .9-2 2v14c0 1.1.9 2 2 2h14c1.1 0 2-.9 2-2V5c0-1.1-.9-2-2-2zM9 17H7v-7h2v7zm4 0h-2V7h2v10zm4 0h-2v-4h2v4z\"/>\n",
              "    </g>\n",
              "</svg>\n",
              "  </button>\n",
              "\n",
              "<style>\n",
              "  .colab-df-quickchart {\n",
              "      --bg-color: #E8F0FE;\n",
              "      --fill-color: #1967D2;\n",
              "      --hover-bg-color: #E2EBFA;\n",
              "      --hover-fill-color: #174EA6;\n",
              "      --disabled-fill-color: #AAA;\n",
              "      --disabled-bg-color: #DDD;\n",
              "  }\n",
              "\n",
              "  [theme=dark] .colab-df-quickchart {\n",
              "      --bg-color: #3B4455;\n",
              "      --fill-color: #D2E3FC;\n",
              "      --hover-bg-color: #434B5C;\n",
              "      --hover-fill-color: #FFFFFF;\n",
              "      --disabled-bg-color: #3B4455;\n",
              "      --disabled-fill-color: #666;\n",
              "  }\n",
              "\n",
              "  .colab-df-quickchart {\n",
              "    background-color: var(--bg-color);\n",
              "    border: none;\n",
              "    border-radius: 50%;\n",
              "    cursor: pointer;\n",
              "    display: none;\n",
              "    fill: var(--fill-color);\n",
              "    height: 32px;\n",
              "    padding: 0;\n",
              "    width: 32px;\n",
              "  }\n",
              "\n",
              "  .colab-df-quickchart:hover {\n",
              "    background-color: var(--hover-bg-color);\n",
              "    box-shadow: 0 1px 2px rgba(60, 64, 67, 0.3), 0 1px 3px 1px rgba(60, 64, 67, 0.15);\n",
              "    fill: var(--button-hover-fill-color);\n",
              "  }\n",
              "\n",
              "  .colab-df-quickchart-complete:disabled,\n",
              "  .colab-df-quickchart-complete:disabled:hover {\n",
              "    background-color: var(--disabled-bg-color);\n",
              "    fill: var(--disabled-fill-color);\n",
              "    box-shadow: none;\n",
              "  }\n",
              "\n",
              "  .colab-df-spinner {\n",
              "    border: 2px solid var(--fill-color);\n",
              "    border-color: transparent;\n",
              "    border-bottom-color: var(--fill-color);\n",
              "    animation:\n",
              "      spin 1s steps(1) infinite;\n",
              "  }\n",
              "\n",
              "  @keyframes spin {\n",
              "    0% {\n",
              "      border-color: transparent;\n",
              "      border-bottom-color: var(--fill-color);\n",
              "      border-left-color: var(--fill-color);\n",
              "    }\n",
              "    20% {\n",
              "      border-color: transparent;\n",
              "      border-left-color: var(--fill-color);\n",
              "      border-top-color: var(--fill-color);\n",
              "    }\n",
              "    30% {\n",
              "      border-color: transparent;\n",
              "      border-left-color: var(--fill-color);\n",
              "      border-top-color: var(--fill-color);\n",
              "      border-right-color: var(--fill-color);\n",
              "    }\n",
              "    40% {\n",
              "      border-color: transparent;\n",
              "      border-right-color: var(--fill-color);\n",
              "      border-top-color: var(--fill-color);\n",
              "    }\n",
              "    60% {\n",
              "      border-color: transparent;\n",
              "      border-right-color: var(--fill-color);\n",
              "    }\n",
              "    80% {\n",
              "      border-color: transparent;\n",
              "      border-right-color: var(--fill-color);\n",
              "      border-bottom-color: var(--fill-color);\n",
              "    }\n",
              "    90% {\n",
              "      border-color: transparent;\n",
              "      border-bottom-color: var(--fill-color);\n",
              "    }\n",
              "  }\n",
              "</style>\n",
              "\n",
              "  <script>\n",
              "    async function quickchart(key) {\n",
              "      const quickchartButtonEl =\n",
              "        document.querySelector('#' + key + ' button');\n",
              "      quickchartButtonEl.disabled = true;  // To prevent multiple clicks.\n",
              "      quickchartButtonEl.classList.add('colab-df-spinner');\n",
              "      try {\n",
              "        const charts = await google.colab.kernel.invokeFunction(\n",
              "            'suggestCharts', [key], {});\n",
              "      } catch (error) {\n",
              "        console.error('Error during call to suggestCharts:', error);\n",
              "      }\n",
              "      quickchartButtonEl.classList.remove('colab-df-spinner');\n",
              "      quickchartButtonEl.classList.add('colab-df-quickchart-complete');\n",
              "    }\n",
              "    (() => {\n",
              "      let quickchartButtonEl =\n",
              "        document.querySelector('#df-6337c293-1456-41c9-969e-cb8e1fa53f0c button');\n",
              "      quickchartButtonEl.style.display =\n",
              "        google.colab.kernel.accessAllowed ? 'block' : 'none';\n",
              "    })();\n",
              "  </script>\n",
              "</div>\n",
              "\n",
              "    </div>\n",
              "  </div>\n"
            ],
            "application/vnd.google.colaboratory.intrinsic+json": {
              "type": "dataframe",
              "variable_name": "df",
              "summary": "{\n  \"name\": \"df\",\n  \"rows\": 20491,\n  \"fields\": [\n    {\n      \"column\": \"Review\",\n      \"properties\": {\n        \"dtype\": \"string\",\n        \"num_unique_values\": 20491,\n        \"samples\": [\n          \"not recommend hotel did reviewers actually stay hotel did, good thing hotel location really close leidseplein, shared facilities filthy got, did not look toilet floor cleaned month, facilities not cleaned 3 days got, disgusting, staff rude complained left night early refused refund night, not recommend hotel,  \",\n          \"barcelona rocks, stayed hotel jazz girlfriend 3 nights end august.the hotel excellent location carrer pelai, close placa catalunya ramblas appreciate buzz city removed respite mayhem crowds, caught airport bus barcelona costs 7 euros person return trip, hotel located 2 mins walk maximum placa universitat stop 2nd route, hotel modern clean, air conditioning room superb balcony looking street outside, room good size, bathroom fine scrimp bit toiletries, bring shower gels unless consider washing unnecessary luxury travels.the downside hotel possibly strengths depending viewpoint, hotel superbly situated 2 different metro stations extremely handy need city sights, downside feel rumbling trains hotel 3rd floor located, worse incessant sound taxi horns hotel mela times square nyc ca n't say disturbed consideration light sleepers irritation, couple shops hotel useful snacks drinks want avoid minibar prices, pool roof tiny n't recommend booking pretty nice place kill time particularly check day just wanted sit chill, n't expect able sit night, shuts fairly early.the hotel excellent 3 star property suggest prices pretty 4 star level, aside hotel tourist bus stopped directly opposite room recommend good way getting overview timer city want possible different areas, think used barcelona tours continuous loop alternative bus turistic 3 different loops involves changing bus round different areas.see gaudi, no fan architecture means, parc guell worth visit nice day n't mind walking uphill, sagrada familia outstanding, couple boat tours port harbour, personally bit underwhelming, save time money things.the nou camp tour worth visit no fan football, stadium amazing history club fascinating, plans redevelopment spectacle completed.ignore negative websites sprung make barcelona akin early days wild west, n't, just sensible major city, read ludicrous claims mark target muggers/pickpockets wore shorts/looked map/did n't speak spanish, rubbish, area ramblas felt safe, couple areas lower end raval little seedy late night just n't stupid fine, worst crime encountered charged 10 euros 2 heinekens irish bar just ramblas heard no-one eats restaurants 9 suffer lack atmosphere did, did n't appear strictly true concede 3 nights, tell restaurants open 8-8.30pm worth getting avoid queues, saturday night arrived restaurant 8.30 offered seat terrace opting window seat overlooking ramblas, 9 turning people away, 9.45 taken pick tables, burst activity 9 n't bad.enjoy,  \",\n          \"ok hotel good location stayed night way beijing rawa island, hotel service room ok. location great shopping restaurants, probably stay, opinion nice 3 star hotel,  \"\n        ],\n        \"semantic_type\": \"\",\n        \"description\": \"\"\n      }\n    },\n    {\n      \"column\": \"Rating\",\n      \"properties\": {\n        \"dtype\": \"number\",\n        \"std\": 1,\n        \"min\": 1,\n        \"max\": 5,\n        \"num_unique_values\": 5,\n        \"samples\": [\n          2,\n          1,\n          3\n        ],\n        \"semantic_type\": \"\",\n        \"description\": \"\"\n      }\n    }\n  ]\n}"
            }
          },
          "metadata": {},
          "execution_count": 8
        }
      ]
    },
    {
      "cell_type": "code",
      "source": [
        "# Finding the null values\n",
        "df.info()"
      ],
      "metadata": {
        "colab": {
          "base_uri": "https://localhost:8080/"
        },
        "id": "4UiPnSUmpAJG",
        "outputId": "2fe8e4fc-572a-49f9-d122-95c3100c9374"
      },
      "execution_count": null,
      "outputs": [
        {
          "output_type": "stream",
          "name": "stdout",
          "text": [
            "<class 'pandas.core.frame.DataFrame'>\n",
            "RangeIndex: 20491 entries, 0 to 20490\n",
            "Data columns (total 2 columns):\n",
            " #   Column  Non-Null Count  Dtype \n",
            "---  ------  --------------  ----- \n",
            " 0   Review  20491 non-null  object\n",
            " 1   Rating  20491 non-null  int64 \n",
            "dtypes: int64(1), object(1)\n",
            "memory usage: 320.3+ KB\n"
          ]
        }
      ]
    },
    {
      "cell_type": "markdown",
      "source": [
        "Note that Dataset contains two columns (Review and rating). Howeverm our goal is to find categories in the negative reviews. Hence, we will need only Review Column."
      ],
      "metadata": {
        "id": "o5yWcVElq5Wk"
      }
    },
    {
      "cell_type": "code",
      "source": [
        "nlp = spacy.load('en_core_web_sm')\n",
        "\n",
        "# Remove The URL\n",
        "def remove_url(text):\n",
        "  doc = nlp(text)\n",
        "  filtered = [token.text for token in doc if not token.text.startswith(('http', 'www'))]\n",
        "  return ' '.join(filtered)\n",
        "\n",
        "# Remove the URL\n",
        "def remove_emoji(text):\n",
        "  doc = nlp(text)\n",
        "  filtered = [token.text for token in doc if token.is_ascii]\n",
        "  return ' '.join(filtered)\n",
        "\n",
        "# Remove Punctuations and  Characters\n",
        "def remove_punctuation_characters(text):\n",
        "  doc = nlp(text)\n",
        "  filtered = [token.text for token in doc if token.is_alpha]\n",
        "  return ' '.join(filtered)\n",
        "\n",
        "# Remove Extra Spaces\n",
        "def remove_extra_spaces(text):\n",
        "  return ' '.join(text.split())\n",
        "\n",
        "# Clean the Text\n",
        "def clean_text(text):\n",
        "  if isinstance(text , str):\n",
        "    text = text.lower()\n",
        "    text = remove_url(text)\n",
        "    text = remove_emoji(text)\n",
        "    text = remove_punctuation_characters(text)\n",
        "    text = remove_extra_spaces(text)\n",
        "    return text\n",
        "\n",
        "df['Review'] = df['Review'].apply(clean_text)\n",
        "df['Review'].iloc[0]"
      ],
      "metadata": {
        "colab": {
          "base_uri": "https://localhost:8080/",
          "height": 157
        },
        "id": "6-pny5cbpLZK",
        "outputId": "edb9d316-de6e-46bf-86e6-19b0677f2bda"
      },
      "execution_count": null,
      "outputs": [
        {
          "output_type": "execute_result",
          "data": {
            "text/plain": [
              "'nice hotel expensive parking got good deal stay hotel anniversary arrived late evening took advice previous reviews did valet parking check quick easy little disappointed non existent view room room clean nice size bed comfortable woke stiff neck high pillows not soundproof like heard music room night morning loud bangs doors opening closing hear people talking hallway maybe just noisy neighbors aveda bath products nice did not goldfish stay nice touch taken advantage staying longer location great walking distance shopping overall nice experience having pay parking night'"
            ],
            "application/vnd.google.colaboratory.intrinsic+json": {
              "type": "string"
            }
          },
          "metadata": {},
          "execution_count": 10
        }
      ]
    },
    {
      "cell_type": "code",
      "source": [
        "# Lemmatization and Remove Stop Words\n",
        "def lemmatization(text):\n",
        "  doc = nlp(text)\n",
        "  lemmatized_token = [token.lemma_ for token in doc if not token.is_stop and not token.is_punct]\n",
        "  return ' '.join(lemmatized_token)\n",
        "\n",
        "df['Review_lemmatized'] = df['Review'].apply(lemmatization)\n",
        "df['Review_lemmatized'].iloc[0]"
      ],
      "metadata": {
        "colab": {
          "base_uri": "https://localhost:8080/",
          "height": 140
        },
        "id": "cPujkcUFuVMX",
        "outputId": "b998e9bf-b3ff-443f-dbd3-27eb48d6b563"
      },
      "execution_count": null,
      "outputs": [
        {
          "output_type": "execute_result",
          "data": {
            "text/plain": [
              "'nice hotel expensive parking get good deal stay hotel anniversary arrive late evening take advice previous review valet parking check quick easy little disappointed non existent view room room clean nice size bed comfortable wake stiff neck high pillow soundproof like hear music room night morning loud bang door open closing hear people talk hallway maybe noisy neighbor aveda bath product nice goldfish stay nice touch take advantage stay long location great walk distance shop overall nice experience having pay parking night'"
            ],
            "application/vnd.google.colaboratory.intrinsic+json": {
              "type": "string"
            }
          },
          "metadata": {},
          "execution_count": 13
        }
      ]
    },
    {
      "cell_type": "code",
      "source": [
        "# Creating the Sentiment Categories\n",
        "from nltk.sentiment.vader import SentimentIntensityAnalyzer\n",
        "\n",
        "nltk.download('vader_lexicon')\n",
        "\n",
        "sia = SentimentIntensityAnalyzer()\n",
        "\n",
        "def get_sentiment(text):\n",
        "    scores = sia.polarity_scores(text)\n",
        "    if scores['compound'] >= 0.05:\n",
        "        return 'positive'\n",
        "    elif scores['compound'] <= -0.05:\n",
        "        return 'negative'\n",
        "    else:\n",
        "        return 'neutral'\n",
        "\n",
        "df['Sentiment'] = df['Review_lemmatized'].apply(get_sentiment)\n",
        "df.head()"
      ],
      "metadata": {
        "colab": {
          "base_uri": "https://localhost:8080/",
          "height": 328
        },
        "id": "iKh-CIoavb6K",
        "outputId": "691e6a8e-ee8f-4c86-9ac6-842bdf22f9f3"
      },
      "execution_count": null,
      "outputs": [
        {
          "output_type": "stream",
          "name": "stderr",
          "text": [
            "[nltk_data] Downloading package vader_lexicon to /root/nltk_data...\n",
            "[nltk_data]   Package vader_lexicon is already up-to-date!\n"
          ]
        },
        {
          "output_type": "execute_result",
          "data": {
            "text/plain": [
              "                                              Review  Rating  \\\n",
              "0  nice hotel expensive parking got good deal sta...       4   \n",
              "1  ok nothing special charge diamond member hilto...       2   \n",
              "2  nice rooms not experience hotel monaco seattle...       3   \n",
              "3  unique great stay wonderful time hotel monaco ...       5   \n",
              "4  great stay great stay went seahawk game awesom...       5   \n",
              "\n",
              "                                   Review_lemmatized Sentiment  \n",
              "0  nice hotel expensive parking get good deal sta...  positive  \n",
              "1  ok special charge diamond member hilton decide...  positive  \n",
              "2  nice room experience hotel monaco seattle good...  positive  \n",
              "3  unique great stay wonderful time hotel monaco ...  positive  \n",
              "4  great stay great stay go seahawk game awesome ...  positive  "
            ],
            "text/html": [
              "\n",
              "  <div id=\"df-97ed44cf-7c33-455e-89bd-aa8a8049c0e6\" class=\"colab-df-container\">\n",
              "    <div>\n",
              "<style scoped>\n",
              "    .dataframe tbody tr th:only-of-type {\n",
              "        vertical-align: middle;\n",
              "    }\n",
              "\n",
              "    .dataframe tbody tr th {\n",
              "        vertical-align: top;\n",
              "    }\n",
              "\n",
              "    .dataframe thead th {\n",
              "        text-align: right;\n",
              "    }\n",
              "</style>\n",
              "<table border=\"1\" class=\"dataframe\">\n",
              "  <thead>\n",
              "    <tr style=\"text-align: right;\">\n",
              "      <th></th>\n",
              "      <th>Review</th>\n",
              "      <th>Rating</th>\n",
              "      <th>Review_lemmatized</th>\n",
              "      <th>Sentiment</th>\n",
              "    </tr>\n",
              "  </thead>\n",
              "  <tbody>\n",
              "    <tr>\n",
              "      <th>0</th>\n",
              "      <td>nice hotel expensive parking got good deal sta...</td>\n",
              "      <td>4</td>\n",
              "      <td>nice hotel expensive parking get good deal sta...</td>\n",
              "      <td>positive</td>\n",
              "    </tr>\n",
              "    <tr>\n",
              "      <th>1</th>\n",
              "      <td>ok nothing special charge diamond member hilto...</td>\n",
              "      <td>2</td>\n",
              "      <td>ok special charge diamond member hilton decide...</td>\n",
              "      <td>positive</td>\n",
              "    </tr>\n",
              "    <tr>\n",
              "      <th>2</th>\n",
              "      <td>nice rooms not experience hotel monaco seattle...</td>\n",
              "      <td>3</td>\n",
              "      <td>nice room experience hotel monaco seattle good...</td>\n",
              "      <td>positive</td>\n",
              "    </tr>\n",
              "    <tr>\n",
              "      <th>3</th>\n",
              "      <td>unique great stay wonderful time hotel monaco ...</td>\n",
              "      <td>5</td>\n",
              "      <td>unique great stay wonderful time hotel monaco ...</td>\n",
              "      <td>positive</td>\n",
              "    </tr>\n",
              "    <tr>\n",
              "      <th>4</th>\n",
              "      <td>great stay great stay went seahawk game awesom...</td>\n",
              "      <td>5</td>\n",
              "      <td>great stay great stay go seahawk game awesome ...</td>\n",
              "      <td>positive</td>\n",
              "    </tr>\n",
              "  </tbody>\n",
              "</table>\n",
              "</div>\n",
              "    <div class=\"colab-df-buttons\">\n",
              "\n",
              "  <div class=\"colab-df-container\">\n",
              "    <button class=\"colab-df-convert\" onclick=\"convertToInteractive('df-97ed44cf-7c33-455e-89bd-aa8a8049c0e6')\"\n",
              "            title=\"Convert this dataframe to an interactive table.\"\n",
              "            style=\"display:none;\">\n",
              "\n",
              "  <svg xmlns=\"http://www.w3.org/2000/svg\" height=\"24px\" viewBox=\"0 -960 960 960\">\n",
              "    <path d=\"M120-120v-720h720v720H120Zm60-500h600v-160H180v160Zm220 220h160v-160H400v160Zm0 220h160v-160H400v160ZM180-400h160v-160H180v160Zm440 0h160v-160H620v160ZM180-180h160v-160H180v160Zm440 0h160v-160H620v160Z\"/>\n",
              "  </svg>\n",
              "    </button>\n",
              "\n",
              "  <style>\n",
              "    .colab-df-container {\n",
              "      display:flex;\n",
              "      gap: 12px;\n",
              "    }\n",
              "\n",
              "    .colab-df-convert {\n",
              "      background-color: #E8F0FE;\n",
              "      border: none;\n",
              "      border-radius: 50%;\n",
              "      cursor: pointer;\n",
              "      display: none;\n",
              "      fill: #1967D2;\n",
              "      height: 32px;\n",
              "      padding: 0 0 0 0;\n",
              "      width: 32px;\n",
              "    }\n",
              "\n",
              "    .colab-df-convert:hover {\n",
              "      background-color: #E2EBFA;\n",
              "      box-shadow: 0px 1px 2px rgba(60, 64, 67, 0.3), 0px 1px 3px 1px rgba(60, 64, 67, 0.15);\n",
              "      fill: #174EA6;\n",
              "    }\n",
              "\n",
              "    .colab-df-buttons div {\n",
              "      margin-bottom: 4px;\n",
              "    }\n",
              "\n",
              "    [theme=dark] .colab-df-convert {\n",
              "      background-color: #3B4455;\n",
              "      fill: #D2E3FC;\n",
              "    }\n",
              "\n",
              "    [theme=dark] .colab-df-convert:hover {\n",
              "      background-color: #434B5C;\n",
              "      box-shadow: 0px 1px 3px 1px rgba(0, 0, 0, 0.15);\n",
              "      filter: drop-shadow(0px 1px 2px rgba(0, 0, 0, 0.3));\n",
              "      fill: #FFFFFF;\n",
              "    }\n",
              "  </style>\n",
              "\n",
              "    <script>\n",
              "      const buttonEl =\n",
              "        document.querySelector('#df-97ed44cf-7c33-455e-89bd-aa8a8049c0e6 button.colab-df-convert');\n",
              "      buttonEl.style.display =\n",
              "        google.colab.kernel.accessAllowed ? 'block' : 'none';\n",
              "\n",
              "      async function convertToInteractive(key) {\n",
              "        const element = document.querySelector('#df-97ed44cf-7c33-455e-89bd-aa8a8049c0e6');\n",
              "        const dataTable =\n",
              "          await google.colab.kernel.invokeFunction('convertToInteractive',\n",
              "                                                    [key], {});\n",
              "        if (!dataTable) return;\n",
              "\n",
              "        const docLinkHtml = 'Like what you see? Visit the ' +\n",
              "          '<a target=\"_blank\" href=https://colab.research.google.com/notebooks/data_table.ipynb>data table notebook</a>'\n",
              "          + ' to learn more about interactive tables.';\n",
              "        element.innerHTML = '';\n",
              "        dataTable['output_type'] = 'display_data';\n",
              "        await google.colab.output.renderOutput(dataTable, element);\n",
              "        const docLink = document.createElement('div');\n",
              "        docLink.innerHTML = docLinkHtml;\n",
              "        element.appendChild(docLink);\n",
              "      }\n",
              "    </script>\n",
              "  </div>\n",
              "\n",
              "\n",
              "<div id=\"df-c80d0301-c235-4e20-8305-a3648b88ca85\">\n",
              "  <button class=\"colab-df-quickchart\" onclick=\"quickchart('df-c80d0301-c235-4e20-8305-a3648b88ca85')\"\n",
              "            title=\"Suggest charts\"\n",
              "            style=\"display:none;\">\n",
              "\n",
              "<svg xmlns=\"http://www.w3.org/2000/svg\" height=\"24px\"viewBox=\"0 0 24 24\"\n",
              "     width=\"24px\">\n",
              "    <g>\n",
              "        <path d=\"M19 3H5c-1.1 0-2 .9-2 2v14c0 1.1.9 2 2 2h14c1.1 0 2-.9 2-2V5c0-1.1-.9-2-2-2zM9 17H7v-7h2v7zm4 0h-2V7h2v10zm4 0h-2v-4h2v4z\"/>\n",
              "    </g>\n",
              "</svg>\n",
              "  </button>\n",
              "\n",
              "<style>\n",
              "  .colab-df-quickchart {\n",
              "      --bg-color: #E8F0FE;\n",
              "      --fill-color: #1967D2;\n",
              "      --hover-bg-color: #E2EBFA;\n",
              "      --hover-fill-color: #174EA6;\n",
              "      --disabled-fill-color: #AAA;\n",
              "      --disabled-bg-color: #DDD;\n",
              "  }\n",
              "\n",
              "  [theme=dark] .colab-df-quickchart {\n",
              "      --bg-color: #3B4455;\n",
              "      --fill-color: #D2E3FC;\n",
              "      --hover-bg-color: #434B5C;\n",
              "      --hover-fill-color: #FFFFFF;\n",
              "      --disabled-bg-color: #3B4455;\n",
              "      --disabled-fill-color: #666;\n",
              "  }\n",
              "\n",
              "  .colab-df-quickchart {\n",
              "    background-color: var(--bg-color);\n",
              "    border: none;\n",
              "    border-radius: 50%;\n",
              "    cursor: pointer;\n",
              "    display: none;\n",
              "    fill: var(--fill-color);\n",
              "    height: 32px;\n",
              "    padding: 0;\n",
              "    width: 32px;\n",
              "  }\n",
              "\n",
              "  .colab-df-quickchart:hover {\n",
              "    background-color: var(--hover-bg-color);\n",
              "    box-shadow: 0 1px 2px rgba(60, 64, 67, 0.3), 0 1px 3px 1px rgba(60, 64, 67, 0.15);\n",
              "    fill: var(--button-hover-fill-color);\n",
              "  }\n",
              "\n",
              "  .colab-df-quickchart-complete:disabled,\n",
              "  .colab-df-quickchart-complete:disabled:hover {\n",
              "    background-color: var(--disabled-bg-color);\n",
              "    fill: var(--disabled-fill-color);\n",
              "    box-shadow: none;\n",
              "  }\n",
              "\n",
              "  .colab-df-spinner {\n",
              "    border: 2px solid var(--fill-color);\n",
              "    border-color: transparent;\n",
              "    border-bottom-color: var(--fill-color);\n",
              "    animation:\n",
              "      spin 1s steps(1) infinite;\n",
              "  }\n",
              "\n",
              "  @keyframes spin {\n",
              "    0% {\n",
              "      border-color: transparent;\n",
              "      border-bottom-color: var(--fill-color);\n",
              "      border-left-color: var(--fill-color);\n",
              "    }\n",
              "    20% {\n",
              "      border-color: transparent;\n",
              "      border-left-color: var(--fill-color);\n",
              "      border-top-color: var(--fill-color);\n",
              "    }\n",
              "    30% {\n",
              "      border-color: transparent;\n",
              "      border-left-color: var(--fill-color);\n",
              "      border-top-color: var(--fill-color);\n",
              "      border-right-color: var(--fill-color);\n",
              "    }\n",
              "    40% {\n",
              "      border-color: transparent;\n",
              "      border-right-color: var(--fill-color);\n",
              "      border-top-color: var(--fill-color);\n",
              "    }\n",
              "    60% {\n",
              "      border-color: transparent;\n",
              "      border-right-color: var(--fill-color);\n",
              "    }\n",
              "    80% {\n",
              "      border-color: transparent;\n",
              "      border-right-color: var(--fill-color);\n",
              "      border-bottom-color: var(--fill-color);\n",
              "    }\n",
              "    90% {\n",
              "      border-color: transparent;\n",
              "      border-bottom-color: var(--fill-color);\n",
              "    }\n",
              "  }\n",
              "</style>\n",
              "\n",
              "  <script>\n",
              "    async function quickchart(key) {\n",
              "      const quickchartButtonEl =\n",
              "        document.querySelector('#' + key + ' button');\n",
              "      quickchartButtonEl.disabled = true;  // To prevent multiple clicks.\n",
              "      quickchartButtonEl.classList.add('colab-df-spinner');\n",
              "      try {\n",
              "        const charts = await google.colab.kernel.invokeFunction(\n",
              "            'suggestCharts', [key], {});\n",
              "      } catch (error) {\n",
              "        console.error('Error during call to suggestCharts:', error);\n",
              "      }\n",
              "      quickchartButtonEl.classList.remove('colab-df-spinner');\n",
              "      quickchartButtonEl.classList.add('colab-df-quickchart-complete');\n",
              "    }\n",
              "    (() => {\n",
              "      let quickchartButtonEl =\n",
              "        document.querySelector('#df-c80d0301-c235-4e20-8305-a3648b88ca85 button');\n",
              "      quickchartButtonEl.style.display =\n",
              "        google.colab.kernel.accessAllowed ? 'block' : 'none';\n",
              "    })();\n",
              "  </script>\n",
              "</div>\n",
              "\n",
              "    </div>\n",
              "  </div>\n"
            ],
            "application/vnd.google.colaboratory.intrinsic+json": {
              "type": "dataframe",
              "variable_name": "df",
              "summary": "{\n  \"name\": \"df\",\n  \"rows\": 20491,\n  \"fields\": [\n    {\n      \"column\": \"Review\",\n      \"properties\": {\n        \"dtype\": \"string\",\n        \"num_unique_values\": 20491,\n        \"samples\": [\n          \"not recommend hotel did reviewers actually stay hotel did good thing hotel location really close leidseplein shared facilities filthy got did not look toilet floor cleaned month facilities not cleaned days got disgusting staff rude complained left night early refused refund night not recommend hotel\",\n          \"barcelona rocks stayed hotel jazz girlfriend nights end hotel excellent location carrer pelai close placa catalunya ramblas appreciate buzz city removed respite mayhem crowds caught airport bus barcelona costs euros person return trip hotel located mins walk maximum placa universitat stop route hotel modern clean air conditioning room superb balcony looking street outside room good size bathroom fine scrimp bit toiletries bring shower gels unless consider washing unnecessary luxury downside hotel possibly strengths depending viewpoint hotel superbly situated different metro stations extremely handy need city sights downside feel rumbling trains hotel floor located worse incessant sound taxi horns hotel mela times square nyc ca say disturbed consideration light sleepers irritation couple shops hotel useful snacks drinks want avoid minibar prices pool roof tiny recommend booking pretty nice place kill time particularly check day just wanted sit chill expect able sit night shuts fairly hotel excellent star property suggest prices pretty star level aside hotel tourist bus stopped directly opposite room recommend good way getting overview timer city want possible different areas think used barcelona tours continuous loop alternative bus turistic different loops involves changing bus round different gaudi no fan architecture means parc guell worth visit nice day mind walking uphill sagrada familia outstanding couple boat tours port harbour personally bit underwhelming save time money nou camp tour worth visit no fan football stadium amazing history club fascinating plans redevelopment spectacle negative websites sprung make barcelona akin early days wild west just sensible major city read ludicrous claims mark target muggers pickpockets wore shorts looked map did speak spanish rubbish area ramblas felt safe couple areas lower end raval little seedy late night just stupid fine worst crime encountered charged euros heinekens irish bar just ramblas heard no one eats restaurants suffer lack atmosphere did did appear strictly true concede nights tell restaurants open worth getting avoid queues saturday night arrived restaurant offered seat terrace opting window seat overlooking ramblas turning people away taken pick tables burst activity\",\n          \"ok hotel good location stayed night way beijing rawa island hotel service room ok location great shopping restaurants probably stay opinion nice star hotel\"\n        ],\n        \"semantic_type\": \"\",\n        \"description\": \"\"\n      }\n    },\n    {\n      \"column\": \"Rating\",\n      \"properties\": {\n        \"dtype\": \"number\",\n        \"std\": 1,\n        \"min\": 1,\n        \"max\": 5,\n        \"num_unique_values\": 5,\n        \"samples\": [\n          2,\n          1,\n          3\n        ],\n        \"semantic_type\": \"\",\n        \"description\": \"\"\n      }\n    },\n    {\n      \"column\": \"Review_lemmatized\",\n      \"properties\": {\n        \"dtype\": \"string\",\n        \"num_unique_values\": 20491,\n        \"samples\": [\n          \"recommend hotel reviewer actually stay hotel good thing hotel location close leidseplein share facility filthy got look toilet floor clean month facility clean day get disgusting staff rude complain left night early refuse refund night recommend hotel\",\n          \"barcelona rock stay hotel jazz girlfriend night end hotel excellent location carrer pelai close placa catalunya ramblas appreciate buzz city remove respite mayhem crowd catch airport bus barcelona cost euro person return trip hotel locate min walk maximum placa universitat stop route hotel modern clean air conditioning room superb balcony look street outside room good size bathroom fine scrimp bit toiletry bring shower gel consider wash unnecessary luxury downside hotel possibly strength depend viewpoint hotel superbly situate different metro station extremely handy need city sight downside feel rumble train hotel floor locate bad incessant sound taxi horn hotel mela times square nyc disturbed consideration light sleeper irritation couple shop hotel useful snack drink want avoid minibar price pool roof tiny recommend book pretty nice place kill time particularly check day want sit chill expect able sit night shut fairly hotel excellent star property suggest price pretty star level aside hotel tourist bus stop directly opposite room recommend good way get overview timer city want possible different area think barcelona tour continuous loop alternative bus turistic different loop involve change bus round different gaudi fan architecture mean parc guell worth visit nice day mind walk uphill sagrada familia outstanding couple boat tour port harbour personally bit underwhelme save time money nou camp tour worth visit fan football stadium amazing history club fascinating plan redevelopment spectacle negative website spring barcelona akin early day wild west sensible major city read ludicrous claim mark target mugger pickpocket wear short look map speak spanish rubbish area rambla feel safe couple area low end raval little seedy late night stupid fine bad crime encounter charge euro heineken irish bar rambla hear eat restaurant suffer lack atmosphere appear strictly true concede night tell restaurant open worth get avoid queue saturday night arrive restaurant offer seat terrace opt window seat overlook rambla turn people away take pick table burst activity\",\n          \"ok hotel good location stay night way beijing rawa island hotel service room ok location great shopping restaurant probably stay opinion nice star hotel\"\n        ],\n        \"semantic_type\": \"\",\n        \"description\": \"\"\n      }\n    },\n    {\n      \"column\": \"Sentiment\",\n      \"properties\": {\n        \"dtype\": \"category\",\n        \"num_unique_values\": 3,\n        \"samples\": [\n          \"positive\",\n          \"negative\",\n          \"neutral\"\n        ],\n        \"semantic_type\": \"\",\n        \"description\": \"\"\n      }\n    }\n  ]\n}"
            }
          },
          "metadata": {},
          "execution_count": 20
        }
      ]
    },
    {
      "cell_type": "code",
      "source": [
        "# Now Take only the negative Sentiment\n",
        "data = df[df['Sentiment'] == 'negative']\n",
        "\n",
        "vectorizer = TfidfVectorizer(max_features = 500)\n",
        "X = vectorizer.fit_transform(data['Review_lemmatized'])"
      ],
      "metadata": {
        "id": "m998GxKq5-Dq"
      },
      "execution_count": null,
      "outputs": []
    },
    {
      "cell_type": "code",
      "source": [
        "from sklearn.metrics import silhouette_score\n",
        "# Assuming you have your data in a NumPy array 'X'\n",
        "\n",
        "# Create a list to store silhouette scores for different k values\n",
        "silhouette_scores = []\n",
        "\n",
        "# Test different k values (e.g., from 2 to 10)\n",
        "for k in range(2, 11):\n",
        "    kmeans = KMeans(n_clusters=k, random_state=42)  # Set random_state for reproducibility\n",
        "    cluster_labels = kmeans.fit_predict(X)\n",
        "    silhouette_avg = silhouette_score(X, cluster_labels)\n",
        "    silhouette_scores.append(silhouette_avg)\n",
        "\n",
        "# Find the k value with the highest silhouette score\n",
        "best_k = np.argmax(silhouette_scores) + 2  # Add 2 because k starts from 2\n",
        "\n",
        "print(f\"Optimal number of clusters (based on silhouette score): {best_k}\")"
      ],
      "metadata": {
        "colab": {
          "base_uri": "https://localhost:8080/"
        },
        "id": "8rJ91cdV7xZh",
        "outputId": "197ae174-8c03-4634-b7d8-c04fead721f7"
      },
      "execution_count": null,
      "outputs": [
        {
          "output_type": "stream",
          "name": "stdout",
          "text": [
            "Optimal number of clusters (based on silhouette score): 3\n"
          ]
        }
      ]
    },
    {
      "cell_type": "code",
      "source": [
        "# K-Means clustering\n",
        "num_clusters = best_k  # Adjust based on data exploration\n",
        "kmeans = KMeans(n_clusters=num_clusters, random_state=42)\n",
        "kmeans.fit(X)\n",
        "\n",
        "# Assign each review to a cluster\n",
        "clusters = kmeans.predict(X)\n",
        "print(\"Cluster Assignments:\", clusters)\n"
      ],
      "metadata": {
        "colab": {
          "base_uri": "https://localhost:8080/"
        },
        "id": "VF9qP0VF76E5",
        "outputId": "b265cb6a-3ce4-40d4-e6e1-dfdafed91a35"
      },
      "execution_count": null,
      "outputs": [
        {
          "output_type": "stream",
          "name": "stdout",
          "text": [
            "Cluster Assignments: [2 2 0 0 0 2 2 0 2 2 2 0 0 2 2 2 0 2 0 0 2 2 2 2 0 2 0 2 0 2 2 0 2 0 0 0 0\n",
            " 2 0 0 2 2 0 0 0 2 0 0 0 1 0 0 2 0 2 0 2 2 0 2 0 2 2 2 2 2 0 2 1 2 2 2 2 0\n",
            " 2 0 2 0 1 1 0 0 2 0 0 2 0 2 2 2 2 0 1 2 0 0 1 1 0 2 0 0 2 2 0 2 0 0 0 0 0\n",
            " 2 0 0 2 2 2 0 2 0 2 2 2 2 2 0 2 2 2 2 2 2 0 0 0 0 2 0 0 2 2 2 2 2 2 1 0 0\n",
            " 2 2 0 2 2 2 2 2 2 2 2 0 2 0 0 2 0 1 0 2 1 1 0 1 0 2 1 1 2 2 1 1 1 1 1 1 1\n",
            " 1 1 2 0 1 1 1 1 1 1 1 1 1 1 1 1 1 1 1 1 1 1 1 0 0 1 0 2 2 1 0 0 2 2 0 1 2\n",
            " 0 2 0 2 1 1 1 1 1 1 1 1 1 1 1 1 1 1 1 2 1 0 2 0 2 0 2 0 2 0 2 2 1 2 2 0 0\n",
            " 1 0 0 2 0 0 2 2 0 0 0 0 0 2 2 2 0 0 0 0 2 0 2 2 2 0 0 2 1 0 0 2 0 2 0 2 0\n",
            " 0 2 0 2 0 2 1 0 2 2 2 0 0 2 2 2 0 0 1 2 1 1 1 1 1 1 1 1 1 2 0 0 0 2 2 0 0\n",
            " 0 2 2 0 0 1 0 0 2 0 2 2 0 0 2 0 2 0 2 0 0 2 2 1 1 1 1 0 1 1 1 1 1 1 1 0 1\n",
            " 1 1 1 2 1 1 1 1 0 1 2 0 2 2 0 2 2 0 1 0 2 2 0 0 0 2 0 0 2 0 2 2 2 2 2 2 2\n",
            " 2 0 2 0 1 2 1 1 2 0 2 0 1 2 0 2 0 2 0 2 0 2 0 0 0 2 2 0 0 2 0 0 1 0 0 0 2\n",
            " 0 2 2 0 0 0 0 2 2 0 2 0 2 0 0 0 2 0 0 0 2 2 2 0 2 0 2 0 0 2 0 2 2 2 2 0 2\n",
            " 2 0 2 0 0 0 2 0 0 2 0 2 2 0 2 0 2 0 2 0 2 0 0 2 0 2 0 2 2 0 0 0 2 2 0 0 0\n",
            " 2 2 0 0 0 2 0 1 2 2 0 0 2 2 0 2 2 2 2 0 2 2 0 2 2 2 2 0 2 0 2 0 0 2 0 0 0\n",
            " 0 0 2 2 1 2 1 1 2 1 1 1 1 2 1 1 2 1 1 2 2 2 2 0 1 2 1 2 2 2 2 0 2 0 2 0 0\n",
            " 0 0 0 2 2 0 0 0 2 2 0 0 0 0 2 2 2 2 2 2 2 0 0 2 2 0 0 0 0 0 2 0 0 2 0 2 2\n",
            " 2 2 2 2 2 2 0 0 1 1 1 1 1 0 0 1 1 1 1 1 1 1 1 1 0 2 1 2 2 2 2 0 0 0 2 0 2\n",
            " 0 2 2 1 2 1 2 1 1 0 2 2 2 2 0 0 0 0 2 0 2 0 0 1 2 0 0 0 2 2 0 0 2 0 2 0 2\n",
            " 2 2 0 2 1 1 1 2 2 0 0 2 2 0 2 0 2 2 2 2 1 0 0 1 1 1 1 2 0 2 2 0 0 0 0 2 0\n",
            " 2 1 1 0 1 2 0 2 2 0 2 2 0 2 2 2 2 2 2 2 0 0 0 0 2 2 0 0 1 2 2 0 0 2 0 0 0\n",
            " 1 2 0 0 2 1 0 0 0 0 0 2 2 0 2 2 0 2 0 0 2 2 2 2 1 2 0 2 0 2 0 0 2 2 0 0 0\n",
            " 0 2 0 2 0 2 2 2 1 1 0 0 0 2 0 0 0 2 2 0 2 0 2 2 0 1 2 2 0 2 2 0 1 1 1 1 1\n",
            " 1 1 2 2 0 1 0 2 0 2 0 0 2 0 2 0 2 0 0 0 0 0 0 1 1 1 1 2 2 2 2 2 0 0 0 1 1\n",
            " 1 0 0 2 2 0 2 1 2 0 2 2 2 0 2 0 2 2 2 1 1 1 1 1 1 0 0 2 2 0 0 2 0 0 0 1 1\n",
            " 0 1 1 1 0 2 0 2 1 0 0 2 2 0 2 0 0 0 0 2 0 2 1 1 0 2 0 2 0 2 0 0 0 0 0 1 1\n",
            " 1 2 1 1 0 1 0 0 0 2 0 0 0 2 2 2 2 2 2 0 0]\n"
          ]
        }
      ]
    },
    {
      "cell_type": "code",
      "source": [
        "# Top terms for each cluster\n",
        "order_centroids = kmeans.cluster_centers_.argsort()[:, ::-1]\n",
        "terms = vectorizer.get_feature_names_out()\n",
        "\n",
        "for i in range(num_clusters):\n",
        "    print(f\"Cluster {i}:\")\n",
        "    print(\", \".join(terms[ind] for ind in order_centroids[i, :10]))  # Top 10 terms\n"
      ],
      "metadata": {
        "colab": {
          "base_uri": "https://localhost:8080/"
        },
        "id": "_11Kb_ku8YQ9",
        "outputId": "8ef6c862-8aaf-4c04-99d5-88672250586f"
      },
      "execution_count": null,
      "outputs": [
        {
          "output_type": "stream",
          "name": "stdout",
          "text": [
            "Cluster 0:\n",
            "hotel, room, stay, service, staff, night, check, book, tell, day\n",
            "Cluster 1:\n",
            "food, resort, beach, room, bad, restaurant, day, hotel, people, service\n",
            "Cluster 2:\n",
            "room, hotel, stay, night, bed, place, bad, dirty, bathroom, small\n"
          ]
        }
      ]
    },
    {
      "cell_type": "code",
      "source": [
        "from sklearn.decomposition import PCA\n",
        "\n",
        "# Reduce dimensions for visualization\n",
        "pca = PCA(n_components=2)\n",
        "X_reduced = pca.fit_transform(X.toarray())\n",
        "\n",
        "# Plot clusters\n",
        "plt.scatter(X_reduced[:, 0], X_reduced[:, 1], c=clusters, cmap='viridis')\n",
        "plt.title(\"K-Means Clusters\")\n",
        "plt.show()\n"
      ],
      "metadata": {
        "colab": {
          "base_uri": "https://localhost:8080/",
          "height": 452
        },
        "id": "K_aW1wBg8ggS",
        "outputId": "a96d1efb-d99e-4303-ddb2-7c6e7810f81d"
      },
      "execution_count": null,
      "outputs": [
        {
          "output_type": "display_data",
          "data": {
            "text/plain": [
              "<Figure size 640x480 with 1 Axes>"
            ],
            "image/png": "[encoded data removed]"
          },
          "metadata": {}
        }
      ]
    },
    {
      "cell_type": "markdown",
      "source": [
        "- Cluster 0:\n",
        "This cluster emphasizes issues related to the hotel service experience, such as problems with staff, booking, and check-ins. Words like hotel, room, stay, service, and staff suggest the reviews in this group likely describe frustrations with general hotel operations, staff behavior, and the booking/check-in process.\n",
        "\n",
        "- Key takeaway: These reviews are likely focused on customer service and operational inefficiencies.\n",
        "\n",
        "- Cluster 1:\n",
        "This cluster revolves around the food, dining experience, and environment of the hotel, such as issues with the resort, beach, restaurant, or food quality. Words like food, resort, beach, and bad suggest that guests were dissatisfied with dining options, food quality, or perhaps their overall experience at the resort.\n",
        "\n",
        "- Key takeaway: These reviews highlight dissatisfaction with the hotel’s food offerings, resort environment, or restaurant services.\n",
        "\n",
        "- Cluster 2:\n",
        "This cluster focuses on room-related complaints, particularly about the condition of the rooms. Words like dirty, bathroom, bed, and small point to issues such as cleanliness, room size, and maintenance.\n",
        "\n",
        "- Key takeaway: These reviews are primarily about the physical aspects of the hotel rooms and their inadequacies.\n",
        "\n"
      ],
      "metadata": {
        "id": "7eZWpscJ-I5Q"
      }
    },
    {
      "cell_type": "markdown",
      "source": [
        "### Conclusion\n",
        "The clustering analysis revealed three main themes in negative reviews:\n",
        "\n",
        "1. **Cluster 0:** Focused on issues related to **customer service and hotel operations**, such as inefficient check-ins, unhelpful staff, and booking problems.\n",
        "2. **Cluster 1:** Highlighted dissatisfaction with the **food, dining experience, and resort environment**, including complaints about food quality, restaurant service, and resort amenities.\n",
        "3. **Cluster 2:** Centered on **room-related problems**, with recurring complaints about cleanliness, room size, and poor maintenance.\n",
        "\n",
        "These findings provide valuable insights for hotel management to identify and prioritize key areas for improvement.\n",
        "- Improving customer service by training staff and streamlining booking and check-in processes.\n",
        "- Enhancing food quality and maintaining resort amenities to provide a better overall experience.\n",
        "- Ensuring regular maintenance and cleanliness of hotel rooms to meet customer expectations.\n",
        "\n",
        "By addressing these issues, hotels can improve customer satisfaction and potentially increase positive reviews, leading to better brand reputation and customer loyalty.\n"
      ],
      "metadata": {
        "id": "r5im0Rh3Vvxg"
      }
    }
  ],
  "metadata": {
    "accelerator": "GPU",
    "colab": {
      "gpuType": "T4",
      "provenance": []
    },
    "kernelspec": {
      "display_name": "Python 3",
      "name": "python3"
    },
    "language_info": {
      "name": "python"
    }
  },
  "nbformat": 4,
  "nbformat_minor": 0
}